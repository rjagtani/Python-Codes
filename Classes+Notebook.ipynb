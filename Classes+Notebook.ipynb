{
 "cells": [
  {
   "cell_type": "markdown",
   "metadata": {},
   "source": [
    "# Introduction to Classes\n",
    "## Understand a tree based model and implement it in python class structure"
   ]
  },
  {
   "cell_type": "markdown",
   "metadata": {},
   "source": [
    "## What is a Class ?\n",
    "\n",
    "A [Class](https://docs.python.org/3/tutorial/classes.html) is an implementation of an Object\n",
    "\n",
    "What is an Object ?\n",
    "\n",
    "Think of a physical object. It is characterised by properties and actions. Properties (attributes) it has and actions (methods) that it can do or can be done to it."
   ]
  },
  {
   "cell_type": "code",
   "execution_count": 1,
   "metadata": {
    "collapsed": true
   },
   "outputs": [],
   "source": [
    "import math"
   ]
  },
  {
   "cell_type": "code",
   "execution_count": 9,
   "metadata": {
    "collapsed": true
   },
   "outputs": [],
   "source": [
    "class complex_number():\n",
    "    ## this is accessible to all instances of the object\n",
    "    definition = 'A class of complex number'\n",
    "    complex_counter = 0\n",
    "    complex_list = []\n",
    "    \n",
    "    def __init__(self,real,imag):\n",
    "        self.r = real\n",
    "        self.i = imag\n",
    "    \n",
    "    def find_r(self):\n",
    "        return np.sqrt(self.r**2 + self.i**2)\n",
    "    \n",
    "    def find_theta(self):\n",
    "        return math.degrees(math.atan(self.i/self.r))\n",
    "    \n",
    "    def __str__(self):\n",
    "        return \"{0} + {1}j\".format(self.r,self.i)\n",
    "    \n",
    "    def __add__(self,other):\n",
    "        return complex_number(self.r+other.r,self.i+other.i)"
   ]
  },
  {
   "cell_type": "code",
   "execution_count": 10,
   "metadata": {},
   "outputs": [
    {
     "name": "stdout",
     "output_type": "stream",
     "text": [
      "A class of complex number\n",
      "45.0\n",
      "2 + 2j\n"
     ]
    }
   ],
   "source": [
    "x = complex_number(2,2)\n",
    "print(x.definition)\n",
    "print(x.find_theta())\n",
    "print(x)"
   ]
  },
  {
   "cell_type": "code",
   "execution_count": 11,
   "metadata": {},
   "outputs": [
    {
     "name": "stdout",
     "output_type": "stream",
     "text": [
      "-8 + 9j\n",
      "-6 + 11j\n"
     ]
    }
   ],
   "source": [
    "x = complex_number(2,2)\n",
    "y = complex_number(-8,9)\n",
    "print(y)\n",
    "z = x+y\n",
    "print(z)"
   ]
  },
  {
   "cell_type": "code",
   "execution_count": 12,
   "metadata": {},
   "outputs": [
    {
     "name": "stdout",
     "output_type": "stream",
     "text": [
      "list of X :  ['333'] list of Y :  ['333']\n",
      "counter of X :  1 counter of Y :  0\n",
      "definition of X :  A class of complex numberLLLLL definition of Y :  A class of complex number\n"
     ]
    }
   ],
   "source": [
    "x.complex_list.append(\"333\")\n",
    "x.complex_counter += 1\n",
    "x.definition += \"LLLLL\"\n",
    "\n",
    "print(\"list of X : \",x.complex_list,\"list of Y : \",y.complex_list)\n",
    "print(\"counter of X : \",x.complex_counter,\"counter of Y : \",y.complex_counter)\n",
    "print(\"definition of X : \",x.definition,\"definition of Y : \",y.definition)"
   ]
  },
  {
   "cell_type": "code",
   "execution_count": 13,
   "metadata": {},
   "outputs": [
    {
     "data": {
      "text/plain": [
       "{'complex_counter': 1,\n",
       " 'definition': 'A class of complex numberLLLLL',\n",
       " 'i': 2,\n",
       " 'r': 2}"
      ]
     },
     "execution_count": 13,
     "metadata": {},
     "output_type": "execute_result"
    }
   ],
   "source": [
    "x.__dict__"
   ]
  },
  {
   "cell_type": "markdown",
   "metadata": {
    "collapsed": true
   },
   "source": [
    "# Inheritance"
   ]
  },
  {
   "cell_type": "code",
   "execution_count": 14,
   "metadata": {
    "collapsed": true
   },
   "outputs": [],
   "source": [
    "class Polygon:\n",
    "    def __init__(self, no_of_sides):\n",
    "        self.n = no_of_sides\n",
    "        self.sides = [0 for i in range(no_of_sides)]\n",
    "\n",
    "    def input_sides(self):\n",
    "        self.sides = [float(input(\"Enter side \"+str(i+1)+\" : \")) for i in range(self.n)]\n",
    "\n",
    "    def disp_sides(self):\n",
    "        for i in range(self.n):\n",
    "            print(\"Side\",i+1,\"is\",self.sides[i])\n",
    "            \n",
    "class Triangle(Polygon):\n",
    "    def __init__(self):\n",
    "        super().__init__(3)\n",
    "\n",
    "    def find_area(self):\n",
    "        a, b, c = self.sides\n",
    "        if ((a+b<c) or (b+c<a) or (a+c<b)):\n",
    "            print(\"Sides entered do not form a triangle\")\n",
    "        else:\n",
    "            # calculate the semi-perimeter\n",
    "            s = (a + b + c) / 2\n",
    "            area = (s*(s-a)*(s-b)*(s-c)) ** 0.5\n",
    "            print('The area of the triangle is {0}'.format(area))\n",
    "        \n",
    "class Parallelogram(Polygon):\n",
    "    def __init__(self):\n",
    "        super().__init__(4)\n",
    "        \n",
    "    def is_parallelogram(self):\n",
    "        a, b, c, d = self.sides\n",
    "        if ((a==c) and (b==d)):\n",
    "            return True\n",
    "        else:\n",
    "            return False"
   ]
  },
  {
   "cell_type": "code",
   "execution_count": 15,
   "metadata": {},
   "outputs": [
    {
     "name": "stdout",
     "output_type": "stream",
     "text": [
      "Enter side 1 : 1\n",
      "Enter side 2 : 2\n",
      "Enter side 3 : 7\n"
     ]
    }
   ],
   "source": [
    "t = Triangle()\n",
    "t.input_sides()"
   ]
  },
  {
   "cell_type": "code",
   "execution_count": 17,
   "metadata": {},
   "outputs": [
    {
     "name": "stdout",
     "output_type": "stream",
     "text": [
      "Sides entered do not form a triangle\n"
     ]
    }
   ],
   "source": [
    "t.find_area()"
   ]
  },
  {
   "cell_type": "code",
   "execution_count": 18,
   "metadata": {},
   "outputs": [
    {
     "name": "stdout",
     "output_type": "stream",
     "text": [
      "Enter side 1 : 1\n",
      "Enter side 2 : 2\n",
      "Enter side 3 : 3\n",
      "Enter side 4 : 1\n"
     ]
    }
   ],
   "source": [
    "p = Parallelogram()\n",
    "p.input_sides()"
   ]
  },
  {
   "cell_type": "code",
   "execution_count": 19,
   "metadata": {},
   "outputs": [
    {
     "data": {
      "text/plain": [
       "False"
      ]
     },
     "execution_count": 19,
     "metadata": {},
     "output_type": "execute_result"
    }
   ],
   "source": [
    "p.is_parallelogram()"
   ]
  },
  {
   "cell_type": "code",
   "execution_count": 51,
   "metadata": {},
   "outputs": [
    {
     "name": "stdout",
     "output_type": "stream",
     "text": [
      "True\n",
      "True\n",
      "False\n",
      "True\n"
     ]
    }
   ],
   "source": [
    "print(isinstance(t,Triangle))\n",
    "print(isinstance(t,Polygon))\n",
    "print(isinstance(t,int))\n",
    "print(isinstance(t,object))"
   ]
  },
  {
   "cell_type": "code",
   "execution_count": 52,
   "metadata": {},
   "outputs": [
    {
     "name": "stdout",
     "output_type": "stream",
     "text": [
      "False\n",
      "True\n",
      "True\n"
     ]
    }
   ],
   "source": [
    "print(issubclass(Polygon,Triangle))\n",
    "print(issubclass(Triangle,Polygon))\n",
    "print(issubclass(bool,int))"
   ]
  },
  {
   "cell_type": "markdown",
   "metadata": {
    "collapsed": true
   },
   "source": [
    "# Private Variables"
   ]
  },
  {
   "cell_type": "markdown",
   "metadata": {},
   "source": [
    "“Private” instance variables that cannot be accessed except from inside an object don’t exist in Python. However, there is a convention that is followed by most Python code: a name prefixed with an underscore (e.g. _spam) should be treated as a non-public part of the API (whether it is a function, a method or a data member). It should be considered an implementation detail and subject to change without notice."
   ]
  },
  {
   "cell_type": "code",
   "execution_count": 27,
   "metadata": {
    "collapsed": true
   },
   "outputs": [],
   "source": [
    "class Polygon:\n",
    "    def __init__(self, no_of_sides):\n",
    "        self.n = no_of_sides\n",
    "        self.sides = [0 for i in range(no_of_sides)]\n",
    "\n",
    "    def input_sides(self):\n",
    "        self.sides = [float(input(\"Enter side \"+str(i+1)+\" : \")) for i in range(self.n)]\n",
    "\n",
    "    def disp_sides(self):\n",
    "        for i in range(self.n):\n",
    "            print(\"Side\",i+1,\"is\",self.sides[i])\n",
    "            \n",
    "class Triangle(Polygon):\n",
    "    def __init__(self):\n",
    "        super().__init__(3)\n",
    "\n",
    "    def find_area(self):\n",
    "        a, b, c = self.sides\n",
    "        if self.__check_valid():\n",
    "            print(\"Sides entered do not form a triangle\")\n",
    "        else:\n",
    "            # calculate the semi-perimeter\n",
    "            s = (a + b + c) / 2\n",
    "            area = (s*(s-a)*(s-b)*(s-c)) ** 0.5\n",
    "            print('The area of the triangle is {0}'.format(area))\n",
    "            \n",
    "    def __check_valid(self):\n",
    "        a, b, c = self.sides\n",
    "        if ((a+b>c) and (b+c>a) and (a+c>b)):\n",
    "            return True\n",
    "        else:\n",
    "            return False"
   ]
  },
  {
   "cell_type": "markdown",
   "metadata": {},
   "source": [
    "## check __check_valid"
   ]
  },
  {
   "cell_type": "code",
   "execution_count": 29,
   "metadata": {},
   "outputs": [
    {
     "name": "stdout",
     "output_type": "stream",
     "text": [
      "Enter side 1 : 1\n",
      "Enter side 2 : 1\n",
      "Enter side 3 : 6\n",
      "The area of the triangle is (5.195564742431613e-16+8.48528137423857j)\n"
     ]
    }
   ],
   "source": [
    "t = Triangle()\n",
    "t.input_sides()\n",
    "t.find_area()"
   ]
  },
  {
   "cell_type": "code",
   "execution_count": 23,
   "metadata": {},
   "outputs": [
    {
     "data": {
      "text/plain": [
       "{'n': 3, 'sides': [1.0, 1.0, 7.0]}"
      ]
     },
     "execution_count": 23,
     "metadata": {},
     "output_type": "execute_result"
    }
   ],
   "source": [
    "t.__dict__"
   ]
  },
  {
   "cell_type": "markdown",
   "metadata": {},
   "source": [
    "method name **__method** is replaced with **_Triangle__method**"
   ]
  },
  {
   "cell_type": "code",
   "execution_count": 24,
   "metadata": {},
   "outputs": [
    {
     "data": {
      "text/plain": [
       "True"
      ]
     },
     "execution_count": 24,
     "metadata": {},
     "output_type": "execute_result"
    }
   ],
   "source": [
    "t._Triangle__check_valid()"
   ]
  },
  {
   "cell_type": "code",
   "execution_count": null,
   "metadata": {
    "collapsed": true
   },
   "outputs": [],
   "source": []
  }
 ],
 "metadata": {
  "kernelspec": {
   "display_name": "Python 3",
   "language": "python",
   "name": "python3"
  },
  "language_info": {
   "codemirror_mode": {
    "name": "ipython",
    "version": 3
   },
   "file_extension": ".py",
   "mimetype": "text/x-python",
   "name": "python",
   "nbconvert_exporter": "python",
   "pygments_lexer": "ipython3",
   "version": "3.4.5"
  }
 },
 "nbformat": 4,
 "nbformat_minor": 2
}
