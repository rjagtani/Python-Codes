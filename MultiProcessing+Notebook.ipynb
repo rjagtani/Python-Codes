{
 "cells": [
  {
   "cell_type": "markdown",
   "metadata": {},
   "source": [
    "# Introduction to MultiProcessing"
   ]
  },
  {
   "cell_type": "code",
   "execution_count": 2,
   "metadata": {
    "collapsed": true
   },
   "outputs": [],
   "source": [
    "import time\n",
    "import random\n",
    "import string\n",
    "import multiprocessing as mp\n",
    "n = 10\n",
    "print_tag = 1\n",
    "wait_time = 1\n",
    "\n",
    "# defining a time intensive function\n",
    "def my_cube(x):\n",
    "    time.sleep(wait_time)\n",
    "    return x**3\n",
    "\n",
    "def rand_string(length):\n",
    "    time.sleep(wait_time)\n",
    "    \"\"\" Generates a random string of numbers, lower- and uppercase chars. \"\"\"\n",
    "    rand_str = ''.join(random.choice(\n",
    "                        string.ascii_lowercase\n",
    "                        + string.ascii_uppercase\n",
    "                        + string.digits)\n",
    "                   for i in range(length))\n",
    "    return rand_str\n",
    "\n",
    "def rand_string_process(length, output):\n",
    "    time.sleep(wait_time)\n",
    "    \"\"\" Generates a random string of numbers, lower- and uppercase chars. \"\"\"\n",
    "    rand_str = ''.join(random.choice(\n",
    "                        string.ascii_lowercase\n",
    "                        + string.ascii_uppercase\n",
    "                        + string.digits)\n",
    "                   for i in range(length))\n",
    "    output.put(rand_str)\n",
    "\n",
    "def rand_string_pos_process(length, pos, output):\n",
    "    time.sleep(wait_time)\n",
    "    \"\"\" Generates a random string of numbers, lower- and uppercase chars. \"\"\"\n",
    "    rand_str = ''.join(random.choice(\n",
    "                        string.ascii_lowercase\n",
    "                        + string.ascii_uppercase\n",
    "                        + string.digits)\n",
    "                   for i in range(length))\n",
    "    output.put((pos, rand_str))\n",
    "    \n",
    "def my_cube_process(x, output):\n",
    "    time.sleep(wait_time)\n",
    "    \"\"\" Generates a random string of numbers, lower- and uppercase chars. \"\"\"\n",
    "    tt = x**3\n",
    "    output.put(tt)\n",
    "\n",
    "def my_cube_pos_process(length, pos, output):\n",
    "    time.sleep(wait_time)\n",
    "    \"\"\" Generates a random string of numbers, lower- and uppercase chars. \"\"\"\n",
    "    tt = x**3\n",
    "    output.put((pos, tt))\n",
    "    "
   ]
  },
  {
   "cell_type": "markdown",
   "metadata": {},
   "source": [
    "## Sequential processing using for loop and list comprehension"
   ]
  },
  {
   "cell_type": "code",
   "execution_count": 4,
   "metadata": {},
   "outputs": [
    {
     "name": "stdout",
     "output_type": "stream",
     "text": [
      "10.013424634933472\n",
      "[0, 1, 8, 27, 64, 125, 216, 343, 512, 729]\n",
      "10.012968063354492\n",
      "[0, 1, 8, 27, 64, 125, 216, 343, 512, 729]\n",
      "10.014762878417969\n",
      "['NkjuZ', 'ogtxM', 'FKInB', 'hHbEe', 'C7fBH', 'yhaO9', 'XqW4S', 'DqDkt', '2lIND', 'Hr20I']\n",
      "10.01474928855896\n",
      "['hzHBC', 'tNONf', 'AM7oH', 'Zhiq4', 'rOPmS', 'NWITk', '16k8K', '9zKCG', 'TUxG3', 'eDtn8']\n"
     ]
    }
   ],
   "source": [
    "start_time = time.time()\n",
    "tt = []\n",
    "for i in range(n):\n",
    "    tt.append(my_cube(i,))\n",
    "print(time.time()-start_time)\n",
    "if print_tag == 1:\n",
    "    print(tt)\n",
    "\n",
    "start_time = time.time()\n",
    "tt = [my_cube(x,) for x in range(n)]\n",
    "print(time.time() - start_time)\n",
    "if print_tag == 1:\n",
    "    print(tt)\n",
    "\n",
    "start_time = time.time()\n",
    "tt = []\n",
    "for i in range(n):\n",
    "    tt.append(rand_string(5))\n",
    "print(time.time()-start_time)\n",
    "if print_tag == 1:\n",
    "    print(tt)\n",
    "    \n",
    "start_time = time.time()\n",
    "tt = [rand_string(5) for x in range(n)]\n",
    "print(time.time() - start_time)\n",
    "if print_tag == 1:\n",
    "    print(tt)"
   ]
  },
  {
   "cell_type": "markdown",
   "metadata": {},
   "source": [
    "## Process Class"
   ]
  },
  {
   "cell_type": "code",
   "execution_count": 6,
   "metadata": {},
   "outputs": [
    {
     "name": "stdout",
     "output_type": "stream",
     "text": [
      "1.0774786472320557\n",
      "['L3cLH', '713hX', 'HBAO1', 'p2HL2', 'DrKdT', 'lGcmA', 'C6rjP', 'bm0hb', 'WpCqS', 'GKYnS']\n"
     ]
    }
   ],
   "source": [
    "output = mp.Queue()\n",
    "\n",
    "# Setup a list of processes that we want to run\n",
    "processes = [mp.Process(target=rand_string_process, args=(5, output)) for x in range(n)]\n",
    "\n",
    "start_time = time.time()\n",
    "# Run processes\n",
    "for p in processes:\n",
    "    p.start()\n",
    "\n",
    "# Exit the completed processes\n",
    "for p in processes:\n",
    "    p.join()\n",
    "    \n",
    "# Get process results from the output queue\n",
    "results = [output.get() for p in processes]\n",
    "print(time.time() - start_time)\n",
    "\n",
    "if print_tag == 1:\n",
    "    print(results)"
   ]
  },
  {
   "cell_type": "code",
   "execution_count": 7,
   "metadata": {},
   "outputs": [
    {
     "name": "stdout",
     "output_type": "stream",
     "text": [
      "1.0806410312652588\n",
      "[0, 1, 8, 27, 64, 125, 216, 343, 512, 729]\n"
     ]
    }
   ],
   "source": [
    "output = mp.Queue()\n",
    "\n",
    "# Setup a list of processes that we want to run\n",
    "processes = [mp.Process(target=my_cube_process, args=(x, output)) for x in range(n)]\n",
    "\n",
    "start_time = time.time()\n",
    "# Run processes\n",
    "for p in processes:\n",
    "    p.start()\n",
    "\n",
    "# Exit the completed processes\n",
    "for p in processes:\n",
    "    p.join()\n",
    "    \n",
    "# Get process results from the output queue\n",
    "results = [output.get() for p in processes]\n",
    "print(time.time() - start_time)\n",
    "\n",
    "if print_tag == 1:\n",
    "    print(results)"
   ]
  },
  {
   "cell_type": "markdown",
   "metadata": {},
   "source": [
    "### Indexing within the process"
   ]
  },
  {
   "cell_type": "code",
   "execution_count": 8,
   "metadata": {},
   "outputs": [
    {
     "name": "stdout",
     "output_type": "stream",
     "text": [
      "1.0778377056121826\n",
      "[(0, '6FVct'), (1, 'uPscx'), (2, 'oz0NZ'), (3, 'kLsBu'), (4, 's2Epx'), (5, 'ni5sf'), (6, '8TxPZ'), (7, 'MmQfX'), (8, 'jJmsW'), (9, 'BJF63')]\n"
     ]
    }
   ],
   "source": [
    "output = mp.Queue()\n",
    "\n",
    "processes = [mp.Process(target=rand_string_pos_process, args=(5, x, output)) for x in range(n)]\n",
    "\n",
    "start_time = time.time()\n",
    "# Run processes\n",
    "for p in processes:\n",
    "    p.start()\n",
    "\n",
    "# Exit the completed processes\n",
    "for p in processes:\n",
    "    p.join()\n",
    "\n",
    "# Get process results from the output queue\n",
    "results = [output.get() for p in processes]\n",
    "print(time.time() - start_time)\n",
    "if print_tag == 1:\n",
    "    print(results)"
   ]
  },
  {
   "cell_type": "markdown",
   "metadata": {},
   "source": [
    "## A Pool of processes : Map and Apply"
   ]
  },
  {
   "cell_type": "code",
   "execution_count": 12,
   "metadata": {},
   "outputs": [
    {
     "name": "stdout",
     "output_type": "stream",
     "text": [
      "4.201763153076172\n",
      "[0, 1, 8, 27, 64, 125, 216, 343, 512, 729, 1000, 1331, 1728, 2197, 2744, 3375, 4096, 4913, 5832, 6859, 8000, 9261, 10648, 12167, 13824, 15625, 17576, 19683, 21952, 24389, 27000, 29791, 32768, 35937, 39304, 42875, 46656, 50653, 54872, 59319]\n"
     ]
    }
   ],
   "source": [
    "if __name__ == '__main__':\n",
    "    start_time = time.time()\n",
    "    with mp.Pool(processes = 10) as pool:\n",
    "        results = [pool.apply_async(my_cube,args=(x,)) for x in range(40)]\n",
    "        output = [p.get() for p in results]\n",
    "    print(time.time()-start_time)\n",
    "    if print_tag == 1:\n",
    "        print(output)"
   ]
  },
  {
   "cell_type": "code",
   "execution_count": 15,
   "metadata": {},
   "outputs": [
    {
     "name": "stdout",
     "output_type": "stream",
     "text": [
      "10.202680110931396\n",
      "[0, 1, 8, 27, 64, 125, 216, 343, 512, 729]\n"
     ]
    }
   ],
   "source": [
    "if __name__ == '__main__':\n",
    "    start_time = time.time()\n",
    "    with mp.Pool(processes = 20) as pool:\n",
    "        output = [pool.apply(my_cube,args=(x,)) for x in range(n)]\n",
    "    print(time.time()-start_time)\n",
    "    if print_tag == 1:\n",
    "        print(output)"
   ]
  },
  {
   "cell_type": "code",
   "execution_count": 16,
   "metadata": {},
   "outputs": [
    {
     "name": "stdout",
     "output_type": "stream",
     "text": [
      "1.2650823593139648\n",
      "[0, 1, 8, 27, 64, 125, 216, 343, 512, 729]\n"
     ]
    }
   ],
   "source": [
    "if __name__ == '__main__':\n",
    "    start_time = time.time()\n",
    "    with mp.Pool(processes = 20) as pool:\n",
    "        output = pool.map(my_cube, range(n))\n",
    "    print(time.time()-start_time)\n",
    "    if print_tag == 1:\n",
    "        print(output)"
   ]
  },
  {
   "cell_type": "markdown",
   "metadata": {
    "collapsed": true
   },
   "source": [
    "# Some  Comments\n",
    "\n",
    "1. When to use : when the tasks are CPU intensive\n",
    "3. Advanced : communicating between processes - [Python Module](https://docs.python.org/3.4/library/multiprocessing.html), [YouTube tutorial](https://www.youtube.com/watch?v=Lu5LrKh1Zno)\n",
    "2. Concernes : Number of cores"
   ]
  },
  {
   "cell_type": "markdown",
   "metadata": {},
   "source": [
    "<img src=\"img/multiprocessing.PNG\" height=50% width=75% align=\"left\">"
   ]
  },
  {
   "cell_type": "code",
   "execution_count": null,
   "metadata": {
    "collapsed": true
   },
   "outputs": [],
   "source": []
  }
 ],
 "metadata": {
  "kernelspec": {
   "display_name": "Python 3",
   "language": "python",
   "name": "python3"
  },
  "language_info": {
   "codemirror_mode": {
    "name": "ipython",
    "version": 3
   },
   "file_extension": ".py",
   "mimetype": "text/x-python",
   "name": "python",
   "nbconvert_exporter": "python",
   "pygments_lexer": "ipython3",
   "version": "3.4.5"
  }
 },
 "nbformat": 4,
 "nbformat_minor": 2
}
